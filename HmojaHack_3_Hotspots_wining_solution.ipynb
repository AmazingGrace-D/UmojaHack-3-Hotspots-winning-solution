{
  "nbformat": 4,
  "nbformat_minor": 0,
  "metadata": {
    "colab": {
      "name": "HmojaHack #3: Hotspots wining solution.ipynb",
      "provenance": [],
      "toc_visible": true
    },
    "kernelspec": {
      "name": "python3",
      "display_name": "Python 3"
    },
    "accelerator": "GPU"
  },
  "cells": [
    {
      "cell_type": "markdown",
      "metadata": {
        "id": "xKcJuq7bxof_",
        "colab_type": "text"
      },
      "source": [
        "# Setup\n",
        "\n",
        "Loading the data from google drive into colab"
      ]
    },
    {
      "cell_type": "code",
      "metadata": {
        "id": "ud5vwPOCVCWz",
        "colab_type": "code",
        "outputId": "d46e91b7-0722-420d-f5e4-7ea64ae23db1",
        "colab": {
          "base_uri": "https://localhost:8080/",
          "height": 122
        }
      },
      "source": [
        "from google.colab import drive\n",
        "drive.mount('./gdrive')"
      ],
      "execution_count": 1,
      "outputs": [
        {
          "output_type": "stream",
          "text": [
            "Go to this URL in a browser: https://accounts.google.com/o/oauth2/auth?client_id=947318989803-6bn6qk8qdgf4n4g3pfee6491hc0brc4i.apps.googleusercontent.com&redirect_uri=urn%3aietf%3awg%3aoauth%3a2.0%3aoob&response_type=code&scope=email%20https%3a%2f%2fwww.googleapis.com%2fauth%2fdocs.test%20https%3a%2f%2fwww.googleapis.com%2fauth%2fdrive%20https%3a%2f%2fwww.googleapis.com%2fauth%2fdrive.photos.readonly%20https%3a%2f%2fwww.googleapis.com%2fauth%2fpeopleapi.readonly\n",
            "\n",
            "Enter your authorization code:\n",
            "··········\n",
            "Mounted at ./gdrive\n"
          ],
          "name": "stdout"
        }
      ]
    },
    {
      "cell_type": "code",
      "metadata": {
        "id": "OjrWXlEHVvpF",
        "colab_type": "code",
        "colab": {}
      },
      "source": [
        "!cp ./gdrive/My\\ Drive/zindi_hack/umoja/data/train/train.csv ./\n",
        "!cp ./gdrive/My\\ Drive/zindi_hack/umoja/data/test/test.csv ./\n",
        "!cp ./gdrive/My\\ Drive/zindi_hack/umoja/data/ss.csv ./"
      ],
      "execution_count": 0,
      "outputs": []
    },
    {
      "cell_type": "code",
      "metadata": {
        "id": "2lLzfdilxfsY",
        "colab_type": "code",
        "colab": {}
      },
      "source": [
        "import pandas as pd\n",
        "from sklearn.linear_model import RidgeCV\n",
        "from sklearn.ensemble import RandomForestRegressor\n",
        "from sklearn.metrics import mean_squared_error, r2_score\n",
        "from matplotlib import pyplot as plt"
      ],
      "execution_count": 0,
      "outputs": []
    },
    {
      "cell_type": "code",
      "metadata": {
        "id": "uaQM7lJHxRoe",
        "colab_type": "code",
        "outputId": "0c4b9b12-b016-40cf-b745-8d191c03b28d",
        "colab": {
          "base_uri": "https://localhost:8080/",
          "height": 309
        }
      },
      "source": [
        "train = pd.read_csv('train.csv', parse_dates=['date'])\n",
        "train.head()"
      ],
      "execution_count": 8,
      "outputs": [
        {
          "output_type": "execute_result",
          "data": {
            "text/html": [
              "<div>\n",
              "<style scoped>\n",
              "    .dataframe tbody tr th:only-of-type {\n",
              "        vertical-align: middle;\n",
              "    }\n",
              "\n",
              "    .dataframe tbody tr th {\n",
              "        vertical-align: top;\n",
              "    }\n",
              "\n",
              "    .dataframe thead th {\n",
              "        text-align: right;\n",
              "    }\n",
              "</style>\n",
              "<table border=\"1\" class=\"dataframe\">\n",
              "  <thead>\n",
              "    <tr style=\"text-align: right;\">\n",
              "      <th></th>\n",
              "      <th>ID</th>\n",
              "      <th>area</th>\n",
              "      <th>date</th>\n",
              "      <th>lat</th>\n",
              "      <th>lon</th>\n",
              "      <th>burn_area</th>\n",
              "      <th>climate_aet</th>\n",
              "      <th>climate_def</th>\n",
              "      <th>climate_pdsi</th>\n",
              "      <th>climate_pet</th>\n",
              "      <th>climate_pr</th>\n",
              "      <th>climate_ro</th>\n",
              "      <th>climate_soil</th>\n",
              "      <th>climate_srad</th>\n",
              "      <th>climate_swe</th>\n",
              "      <th>climate_tmmn</th>\n",
              "      <th>climate_tmmx</th>\n",
              "      <th>climate_vap</th>\n",
              "      <th>climate_vpd</th>\n",
              "      <th>climate_vs</th>\n",
              "      <th>elevation</th>\n",
              "      <th>landcover_0</th>\n",
              "      <th>landcover_1</th>\n",
              "      <th>landcover_2</th>\n",
              "      <th>landcover_3</th>\n",
              "      <th>landcover_4</th>\n",
              "      <th>landcover_5</th>\n",
              "      <th>landcover_6</th>\n",
              "      <th>landcover_7</th>\n",
              "      <th>landcover_8</th>\n",
              "      <th>population_density</th>\n",
              "      <th>precipitation</th>\n",
              "    </tr>\n",
              "  </thead>\n",
              "  <tbody>\n",
              "    <tr>\n",
              "      <th>0</th>\n",
              "      <td>0_2000-04-01</td>\n",
              "      <td>0</td>\n",
              "      <td>2000-04-01</td>\n",
              "      <td>25.447</td>\n",
              "      <td>5.296</td>\n",
              "      <td>0.003688</td>\n",
              "      <td>1250.622712</td>\n",
              "      <td>0.0</td>\n",
              "      <td>-178.916305</td>\n",
              "      <td>1250.622712</td>\n",
              "      <td>158.387765</td>\n",
              "      <td>8.000000</td>\n",
              "      <td>498.913776</td>\n",
              "      <td>2143.430034</td>\n",
              "      <td>0.0</td>\n",
              "      <td>206.935453</td>\n",
              "      <td>323.873675</td>\n",
              "      <td>2508.795159</td>\n",
              "      <td>115.989282</td>\n",
              "      <td>129.825024</td>\n",
              "      <td>590.564102</td>\n",
              "      <td>0.0</td>\n",
              "      <td>0.0</td>\n",
              "      <td>0.350169</td>\n",
              "      <td>0.0</td>\n",
              "      <td>0.649524</td>\n",
              "      <td>0.0</td>\n",
              "      <td>0.000307</td>\n",
              "      <td>0.0</td>\n",
              "      <td>0.0</td>\n",
              "      <td>2.214262</td>\n",
              "      <td>0.198996</td>\n",
              "    </tr>\n",
              "    <tr>\n",
              "      <th>1</th>\n",
              "      <td>1_2000-04-01</td>\n",
              "      <td>1</td>\n",
              "      <td>2000-04-01</td>\n",
              "      <td>25.669</td>\n",
              "      <td>5.293</td>\n",
              "      <td>0.000000</td>\n",
              "      <td>1238.019166</td>\n",
              "      <td>0.0</td>\n",
              "      <td>-150.779947</td>\n",
              "      <td>1238.019166</td>\n",
              "      <td>164.645065</td>\n",
              "      <td>8.104576</td>\n",
              "      <td>590.346191</td>\n",
              "      <td>2132.253953</td>\n",
              "      <td>0.0</td>\n",
              "      <td>204.835170</td>\n",
              "      <td>321.838884</td>\n",
              "      <td>2500.432319</td>\n",
              "      <td>112.619789</td>\n",
              "      <td>129.471370</td>\n",
              "      <td>611.544277</td>\n",
              "      <td>0.0</td>\n",
              "      <td>0.0</td>\n",
              "      <td>0.429049</td>\n",
              "      <td>0.0</td>\n",
              "      <td>0.570644</td>\n",
              "      <td>0.0</td>\n",
              "      <td>0.000307</td>\n",
              "      <td>0.0</td>\n",
              "      <td>0.0</td>\n",
              "      <td>3.833042</td>\n",
              "      <td>0.188071</td>\n",
              "    </tr>\n",
              "    <tr>\n",
              "      <th>2</th>\n",
              "      <td>2_2000-04-01</td>\n",
              "      <td>2</td>\n",
              "      <td>2000-04-01</td>\n",
              "      <td>25.443</td>\n",
              "      <td>5.074</td>\n",
              "      <td>0.000000</td>\n",
              "      <td>1240.449964</td>\n",
              "      <td>0.0</td>\n",
              "      <td>-200.503858</td>\n",
              "      <td>1240.449964</td>\n",
              "      <td>163.699542</td>\n",
              "      <td>8.027851</td>\n",
              "      <td>536.613938</td>\n",
              "      <td>2139.632626</td>\n",
              "      <td>0.0</td>\n",
              "      <td>207.001206</td>\n",
              "      <td>321.846757</td>\n",
              "      <td>2519.259344</td>\n",
              "      <td>112.378707</td>\n",
              "      <td>127.550639</td>\n",
              "      <td>594.188987</td>\n",
              "      <td>0.0</td>\n",
              "      <td>0.0</td>\n",
              "      <td>0.238300</td>\n",
              "      <td>0.0</td>\n",
              "      <td>0.761700</td>\n",
              "      <td>0.0</td>\n",
              "      <td>0.000000</td>\n",
              "      <td>0.0</td>\n",
              "      <td>0.0</td>\n",
              "      <td>1.927303</td>\n",
              "      <td>0.211730</td>\n",
              "    </tr>\n",
              "    <tr>\n",
              "      <th>3</th>\n",
              "      <td>3_2000-04-01</td>\n",
              "      <td>3</td>\n",
              "      <td>2000-04-01</td>\n",
              "      <td>25.665</td>\n",
              "      <td>5.070</td>\n",
              "      <td>0.000000</td>\n",
              "      <td>1229.240077</td>\n",
              "      <td>0.0</td>\n",
              "      <td>-177.011032</td>\n",
              "      <td>1229.240077</td>\n",
              "      <td>172.996043</td>\n",
              "      <td>8.820002</td>\n",
              "      <td>648.271615</td>\n",
              "      <td>2125.206979</td>\n",
              "      <td>0.0</td>\n",
              "      <td>204.127473</td>\n",
              "      <td>319.348123</td>\n",
              "      <td>2493.392613</td>\n",
              "      <td>109.132390</td>\n",
              "      <td>131.703082</td>\n",
              "      <td>645.362481</td>\n",
              "      <td>0.0</td>\n",
              "      <td>0.0</td>\n",
              "      <td>0.488146</td>\n",
              "      <td>0.0</td>\n",
              "      <td>0.511854</td>\n",
              "      <td>0.0</td>\n",
              "      <td>0.000000</td>\n",
              "      <td>0.0</td>\n",
              "      <td>0.0</td>\n",
              "      <td>1.878281</td>\n",
              "      <td>0.215403</td>\n",
              "    </tr>\n",
              "    <tr>\n",
              "      <th>4</th>\n",
              "      <td>4_2000-04-01</td>\n",
              "      <td>4</td>\n",
              "      <td>2000-04-01</td>\n",
              "      <td>25.886</td>\n",
              "      <td>5.067</td>\n",
              "      <td>0.000307</td>\n",
              "      <td>1224.093679</td>\n",
              "      <td>0.0</td>\n",
              "      <td>-153.256111</td>\n",
              "      <td>1224.093679</td>\n",
              "      <td>178.396749</td>\n",
              "      <td>9.000000</td>\n",
              "      <td>719.423119</td>\n",
              "      <td>2114.709813</td>\n",
              "      <td>0.0</td>\n",
              "      <td>203.295123</td>\n",
              "      <td>318.639735</td>\n",
              "      <td>2487.984467</td>\n",
              "      <td>108.161469</td>\n",
              "      <td>133.354846</td>\n",
              "      <td>660.372381</td>\n",
              "      <td>0.0</td>\n",
              "      <td>0.0</td>\n",
              "      <td>0.322243</td>\n",
              "      <td>0.0</td>\n",
              "      <td>0.677757</td>\n",
              "      <td>0.0</td>\n",
              "      <td>0.000000</td>\n",
              "      <td>0.0</td>\n",
              "      <td>0.0</td>\n",
              "      <td>1.968818</td>\n",
              "      <td>0.199975</td>\n",
              "    </tr>\n",
              "  </tbody>\n",
              "</table>\n",
              "</div>"
            ],
            "text/plain": [
              "             ID  area  ... population_density  precipitation\n",
              "0  0_2000-04-01     0  ...           2.214262       0.198996\n",
              "1  1_2000-04-01     1  ...           3.833042       0.188071\n",
              "2  2_2000-04-01     2  ...           1.927303       0.211730\n",
              "3  3_2000-04-01     3  ...           1.878281       0.215403\n",
              "4  4_2000-04-01     4  ...           1.968818       0.199975\n",
              "\n",
              "[5 rows x 32 columns]"
            ]
          },
          "metadata": {
            "tags": []
          },
          "execution_count": 8
        }
      ]
    },
    {
      "cell_type": "code",
      "metadata": {
        "id": "hR6mIdaosz0s",
        "colab_type": "code",
        "colab": {
          "base_uri": "https://localhost:8080/",
          "height": 309
        },
        "outputId": "067986fc-8bfa-4006-ad1b-9fe09cd0e318"
      },
      "source": [
        "test = pd.read_csv('test.csv', parse_dates=['date'])\n",
        "test.head()"
      ],
      "execution_count": 9,
      "outputs": [
        {
          "output_type": "execute_result",
          "data": {
            "text/html": [
              "<div>\n",
              "<style scoped>\n",
              "    .dataframe tbody tr th:only-of-type {\n",
              "        vertical-align: middle;\n",
              "    }\n",
              "\n",
              "    .dataframe tbody tr th {\n",
              "        vertical-align: top;\n",
              "    }\n",
              "\n",
              "    .dataframe thead th {\n",
              "        text-align: right;\n",
              "    }\n",
              "</style>\n",
              "<table border=\"1\" class=\"dataframe\">\n",
              "  <thead>\n",
              "    <tr style=\"text-align: right;\">\n",
              "      <th></th>\n",
              "      <th>ID</th>\n",
              "      <th>area</th>\n",
              "      <th>date</th>\n",
              "      <th>lat</th>\n",
              "      <th>lon</th>\n",
              "      <th>burn_area</th>\n",
              "      <th>climate_aet</th>\n",
              "      <th>climate_def</th>\n",
              "      <th>climate_pdsi</th>\n",
              "      <th>climate_pet</th>\n",
              "      <th>climate_pr</th>\n",
              "      <th>climate_ro</th>\n",
              "      <th>climate_soil</th>\n",
              "      <th>climate_srad</th>\n",
              "      <th>climate_swe</th>\n",
              "      <th>climate_tmmn</th>\n",
              "      <th>climate_tmmx</th>\n",
              "      <th>climate_vap</th>\n",
              "      <th>climate_vpd</th>\n",
              "      <th>climate_vs</th>\n",
              "      <th>elevation</th>\n",
              "      <th>landcover_0</th>\n",
              "      <th>landcover_1</th>\n",
              "      <th>landcover_2</th>\n",
              "      <th>landcover_3</th>\n",
              "      <th>landcover_4</th>\n",
              "      <th>landcover_5</th>\n",
              "      <th>landcover_6</th>\n",
              "      <th>landcover_7</th>\n",
              "      <th>landcover_8</th>\n",
              "      <th>population_density</th>\n",
              "      <th>precipitation</th>\n",
              "    </tr>\n",
              "  </thead>\n",
              "  <tbody>\n",
              "    <tr>\n",
              "      <th>0</th>\n",
              "      <td>0_2014-01-01</td>\n",
              "      <td>0</td>\n",
              "      <td>2014-01-01</td>\n",
              "      <td>25.447</td>\n",
              "      <td>5.296</td>\n",
              "      <td>0</td>\n",
              "      <td>142.756021</td>\n",
              "      <td>1217.926180</td>\n",
              "      <td>-953.401012</td>\n",
              "      <td>1360.571291</td>\n",
              "      <td>1.000000</td>\n",
              "      <td>0.0</td>\n",
              "      <td>355.593690</td>\n",
              "      <td>2349.499157</td>\n",
              "      <td>0.0</td>\n",
              "      <td>187.541787</td>\n",
              "      <td>332.578998</td>\n",
              "      <td>2542.124518</td>\n",
              "      <td>111.013969</td>\n",
              "      <td>156.563945</td>\n",
              "      <td>590.564102</td>\n",
              "      <td>0.0</td>\n",
              "      <td>0.0</td>\n",
              "      <td>0.430648</td>\n",
              "      <td>0.0</td>\n",
              "      <td>0.569045</td>\n",
              "      <td>0.0</td>\n",
              "      <td>0.000307</td>\n",
              "      <td>0.0</td>\n",
              "      <td>0.0</td>\n",
              "      <td>2.773423</td>\n",
              "      <td>0.000457</td>\n",
              "    </tr>\n",
              "    <tr>\n",
              "      <th>1</th>\n",
              "      <td>1_2014-01-01</td>\n",
              "      <td>1</td>\n",
              "      <td>2014-01-01</td>\n",
              "      <td>25.669</td>\n",
              "      <td>5.293</td>\n",
              "      <td>0</td>\n",
              "      <td>154.836847</td>\n",
              "      <td>1193.866315</td>\n",
              "      <td>-961.703043</td>\n",
              "      <td>1348.688788</td>\n",
              "      <td>1.000000</td>\n",
              "      <td>0.0</td>\n",
              "      <td>382.206636</td>\n",
              "      <td>2340.597389</td>\n",
              "      <td>0.0</td>\n",
              "      <td>185.895903</td>\n",
              "      <td>330.826066</td>\n",
              "      <td>2551.085649</td>\n",
              "      <td>106.576545</td>\n",
              "      <td>158.165429</td>\n",
              "      <td>611.544277</td>\n",
              "      <td>0.0</td>\n",
              "      <td>0.0</td>\n",
              "      <td>0.494624</td>\n",
              "      <td>0.0</td>\n",
              "      <td>0.505068</td>\n",
              "      <td>0.0</td>\n",
              "      <td>0.000307</td>\n",
              "      <td>0.0</td>\n",
              "      <td>0.0</td>\n",
              "      <td>4.697883</td>\n",
              "      <td>0.000129</td>\n",
              "    </tr>\n",
              "    <tr>\n",
              "      <th>2</th>\n",
              "      <td>2_2014-01-01</td>\n",
              "      <td>2</td>\n",
              "      <td>2014-01-01</td>\n",
              "      <td>25.443</td>\n",
              "      <td>5.074</td>\n",
              "      <td>0</td>\n",
              "      <td>127.790933</td>\n",
              "      <td>1223.640222</td>\n",
              "      <td>-962.435857</td>\n",
              "      <td>1351.521823</td>\n",
              "      <td>1.000000</td>\n",
              "      <td>0.0</td>\n",
              "      <td>318.078852</td>\n",
              "      <td>2351.867856</td>\n",
              "      <td>0.0</td>\n",
              "      <td>188.441645</td>\n",
              "      <td>330.077285</td>\n",
              "      <td>2551.183265</td>\n",
              "      <td>107.104292</td>\n",
              "      <td>153.257656</td>\n",
              "      <td>594.188987</td>\n",
              "      <td>0.0</td>\n",
              "      <td>0.0</td>\n",
              "      <td>0.288343</td>\n",
              "      <td>0.0</td>\n",
              "      <td>0.711657</td>\n",
              "      <td>0.0</td>\n",
              "      <td>0.000000</td>\n",
              "      <td>0.0</td>\n",
              "      <td>0.0</td>\n",
              "      <td>2.488614</td>\n",
              "      <td>0.000398</td>\n",
              "    </tr>\n",
              "    <tr>\n",
              "      <th>3</th>\n",
              "      <td>3_2014-01-01</td>\n",
              "      <td>3</td>\n",
              "      <td>2014-01-01</td>\n",
              "      <td>25.665</td>\n",
              "      <td>5.070</td>\n",
              "      <td>0</td>\n",
              "      <td>136.924571</td>\n",
              "      <td>1201.258784</td>\n",
              "      <td>-961.326298</td>\n",
              "      <td>1338.120278</td>\n",
              "      <td>1.000000</td>\n",
              "      <td>0.0</td>\n",
              "      <td>339.386497</td>\n",
              "      <td>2348.509414</td>\n",
              "      <td>0.0</td>\n",
              "      <td>185.393692</td>\n",
              "      <td>326.942319</td>\n",
              "      <td>2539.815326</td>\n",
              "      <td>101.962346</td>\n",
              "      <td>155.518048</td>\n",
              "      <td>645.362481</td>\n",
              "      <td>0.0</td>\n",
              "      <td>0.0</td>\n",
              "      <td>0.492103</td>\n",
              "      <td>0.0</td>\n",
              "      <td>0.507897</td>\n",
              "      <td>0.0</td>\n",
              "      <td>0.000000</td>\n",
              "      <td>0.0</td>\n",
              "      <td>0.0</td>\n",
              "      <td>2.439959</td>\n",
              "      <td>0.000158</td>\n",
              "    </tr>\n",
              "    <tr>\n",
              "      <th>4</th>\n",
              "      <td>4_2014-01-01</td>\n",
              "      <td>4</td>\n",
              "      <td>2014-01-01</td>\n",
              "      <td>25.886</td>\n",
              "      <td>5.067</td>\n",
              "      <td>0</td>\n",
              "      <td>144.278146</td>\n",
              "      <td>1197.831547</td>\n",
              "      <td>-959.248284</td>\n",
              "      <td>1342.118844</td>\n",
              "      <td>0.998555</td>\n",
              "      <td>0.0</td>\n",
              "      <td>358.043829</td>\n",
              "      <td>2341.881156</td>\n",
              "      <td>0.0</td>\n",
              "      <td>186.275015</td>\n",
              "      <td>327.839976</td>\n",
              "      <td>2549.462252</td>\n",
              "      <td>102.743046</td>\n",
              "      <td>159.865021</td>\n",
              "      <td>660.372381</td>\n",
              "      <td>0.0</td>\n",
              "      <td>0.0</td>\n",
              "      <td>0.333855</td>\n",
              "      <td>0.0</td>\n",
              "      <td>0.666145</td>\n",
              "      <td>0.0</td>\n",
              "      <td>0.000000</td>\n",
              "      <td>0.0</td>\n",
              "      <td>0.0</td>\n",
              "      <td>2.546723</td>\n",
              "      <td>0.000153</td>\n",
              "    </tr>\n",
              "  </tbody>\n",
              "</table>\n",
              "</div>"
            ],
            "text/plain": [
              "             ID  area  ... population_density  precipitation\n",
              "0  0_2014-01-01     0  ...           2.773423       0.000457\n",
              "1  1_2014-01-01     1  ...           4.697883       0.000129\n",
              "2  2_2014-01-01     2  ...           2.488614       0.000398\n",
              "3  3_2014-01-01     3  ...           2.439959       0.000158\n",
              "4  4_2014-01-01     4  ...           2.546723       0.000153\n",
              "\n",
              "[5 rows x 32 columns]"
            ]
          },
          "metadata": {
            "tags": []
          },
          "execution_count": 9
        }
      ]
    },
    {
      "cell_type": "markdown",
      "metadata": {
        "id": "Tnl3iVg5xqfA",
        "colab_type": "text"
      },
      "source": [
        "#Feature Engineering"
      ]
    },
    {
      "cell_type": "markdown",
      "metadata": {
        "id": "MX_J2bc6l-KW",
        "colab_type": "text"
      },
      "source": [
        "Date features"
      ]
    },
    {
      "cell_type": "code",
      "metadata": {
        "id": "bag8HJpxCucw",
        "colab_type": "code",
        "colab": {}
      },
      "source": [
        "train['month'] = train.date.dt.month\n",
        "train['year'] = train.date.dt.year\n",
        "test['month'] = test.date.dt.month\n",
        "test['year'] = test.date.dt.year"
      ],
      "execution_count": 0,
      "outputs": []
    },
    {
      "cell_type": "markdown",
      "metadata": {
        "id": "K5yCOOXgl2_z",
        "colab_type": "text"
      },
      "source": [
        "Adding some more features"
      ]
    },
    {
      "cell_type": "code",
      "metadata": {
        "id": "4UPgJ59tpSlR",
        "colab_type": "code",
        "colab": {}
      },
      "source": [
        "train['dry_and_windy'] = (1/train['climate_soil'])*train['climate_vs']\n",
        "train['hot_and_dry'] = train['climate_srad'] *(1/train['climate_soil'])\n",
        "train['low_pres_and_rain_def'] = train['climate_def'] *(1/train['climate_vap'])\n",
        "train['pres_def_and_windy'] = (1/train['climate_aet'])*train['climate_vs']\n",
        "\n",
        "test['dry_and_windy'] = (1/test['climate_soil'])*test['climate_vs']\n",
        "test['hot_and_dry'] = test['climate_srad'] *(1/test['climate_soil'])\n",
        "test['low_pres_and_rain_def'] = test['climate_def'] *(1/test['climate_vap'])\n",
        "test['pres_def_and_windy'] = (1/test['climate_aet'])*test['climate_vs']"
      ],
      "execution_count": 0,
      "outputs": []
    },
    {
      "cell_type": "markdown",
      "metadata": {
        "id": "5sZkL-OUqK2m",
        "colab_type": "text"
      },
      "source": [
        "Looking at the new features correlation to the target variable"
      ]
    },
    {
      "cell_type": "code",
      "metadata": {
        "id": "8XVQpxmK1jLK",
        "colab_type": "code",
        "outputId": "331beffd-b8ba-4fa3-a413-f6f8a22ddc74",
        "colab": {
          "base_uri": "https://localhost:8080/",
          "height": 447
        }
      },
      "source": [
        "train.corr()['burn_area'].sort_values().plot(kind='bar', figsize=(18, 6))"
      ],
      "execution_count": 12,
      "outputs": [
        {
          "output_type": "execute_result",
          "data": {
            "text/plain": [
              "<matplotlib.axes._subplots.AxesSubplot at 0x7f9cc40c9160>"
            ]
          },
          "metadata": {
            "tags": []
          },
          "execution_count": 12
        },
        {
          "output_type": "display_data",
          "data": {
            "image/png": "[encoded data removed]",
            "text/plain": [
              "<Figure size 1296x432 with 1 Axes>"
            ]
          },
          "metadata": {
            "tags": []
          }
        }
      ]
    },
    {
      "cell_type": "markdown",
      "metadata": {
        "id": "YTwab5z9YtqP",
        "colab_type": "text"
      },
      "source": [
        "#Training\n",
        "\n"
      ]
    },
    {
      "cell_type": "code",
      "metadata": {
        "id": "JL1aJRENYwVf",
        "colab_type": "code",
        "colab": {}
      },
      "source": [
        "from fastai.tabular import * "
      ],
      "execution_count": 0,
      "outputs": []
    },
    {
      "cell_type": "code",
      "metadata": {
        "id": "hRbFa37cYzdR",
        "colab_type": "code",
        "outputId": "08d41236-8288-4419-b1ae-baf00692b9cd",
        "colab": {
          "base_uri": "https://localhost:8080/",
          "height": 224
        }
      },
      "source": [
        "train = train.drop(columns=['ID', 'area', 'date'])\n",
        "train.head()"
      ],
      "execution_count": 14,
      "outputs": [
        {
          "output_type": "execute_result",
          "data": {
            "text/html": [
              "<div>\n",
              "<style scoped>\n",
              "    .dataframe tbody tr th:only-of-type {\n",
              "        vertical-align: middle;\n",
              "    }\n",
              "\n",
              "    .dataframe tbody tr th {\n",
              "        vertical-align: top;\n",
              "    }\n",
              "\n",
              "    .dataframe thead th {\n",
              "        text-align: right;\n",
              "    }\n",
              "</style>\n",
              "<table border=\"1\" class=\"dataframe\">\n",
              "  <thead>\n",
              "    <tr style=\"text-align: right;\">\n",
              "      <th></th>\n",
              "      <th>lat</th>\n",
              "      <th>lon</th>\n",
              "      <th>burn_area</th>\n",
              "      <th>climate_aet</th>\n",
              "      <th>climate_def</th>\n",
              "      <th>climate_pdsi</th>\n",
              "      <th>climate_pet</th>\n",
              "      <th>climate_pr</th>\n",
              "      <th>climate_ro</th>\n",
              "      <th>climate_soil</th>\n",
              "      <th>climate_srad</th>\n",
              "      <th>climate_swe</th>\n",
              "      <th>climate_tmmn</th>\n",
              "      <th>climate_tmmx</th>\n",
              "      <th>climate_vap</th>\n",
              "      <th>climate_vpd</th>\n",
              "      <th>climate_vs</th>\n",
              "      <th>elevation</th>\n",
              "      <th>landcover_0</th>\n",
              "      <th>landcover_1</th>\n",
              "      <th>landcover_2</th>\n",
              "      <th>landcover_3</th>\n",
              "      <th>landcover_4</th>\n",
              "      <th>landcover_5</th>\n",
              "      <th>landcover_6</th>\n",
              "      <th>landcover_7</th>\n",
              "      <th>landcover_8</th>\n",
              "      <th>population_density</th>\n",
              "      <th>precipitation</th>\n",
              "      <th>month</th>\n",
              "      <th>year</th>\n",
              "      <th>dry_and_windy</th>\n",
              "      <th>hot_and_dry</th>\n",
              "      <th>low_pres_and_rain_def</th>\n",
              "      <th>pres_def_and_windy</th>\n",
              "    </tr>\n",
              "  </thead>\n",
              "  <tbody>\n",
              "    <tr>\n",
              "      <th>0</th>\n",
              "      <td>25.447</td>\n",
              "      <td>5.296</td>\n",
              "      <td>0.003688</td>\n",
              "      <td>1250.622712</td>\n",
              "      <td>0.0</td>\n",
              "      <td>-178.916305</td>\n",
              "      <td>1250.622712</td>\n",
              "      <td>158.387765</td>\n",
              "      <td>8.000000</td>\n",
              "      <td>498.913776</td>\n",
              "      <td>2143.430034</td>\n",
              "      <td>0.0</td>\n",
              "      <td>206.935453</td>\n",
              "      <td>323.873675</td>\n",
              "      <td>2508.795159</td>\n",
              "      <td>115.989282</td>\n",
              "      <td>129.825024</td>\n",
              "      <td>590.564102</td>\n",
              "      <td>0.0</td>\n",
              "      <td>0.0</td>\n",
              "      <td>0.350169</td>\n",
              "      <td>0.0</td>\n",
              "      <td>0.649524</td>\n",
              "      <td>0.0</td>\n",
              "      <td>0.000307</td>\n",
              "      <td>0.0</td>\n",
              "      <td>0.0</td>\n",
              "      <td>2.214262</td>\n",
              "      <td>0.198996</td>\n",
              "      <td>4</td>\n",
              "      <td>2000</td>\n",
              "      <td>0.260215</td>\n",
              "      <td>4.296193</td>\n",
              "      <td>0.0</td>\n",
              "      <td>0.103808</td>\n",
              "    </tr>\n",
              "    <tr>\n",
              "      <th>1</th>\n",
              "      <td>25.669</td>\n",
              "      <td>5.293</td>\n",
              "      <td>0.000000</td>\n",
              "      <td>1238.019166</td>\n",
              "      <td>0.0</td>\n",
              "      <td>-150.779947</td>\n",
              "      <td>1238.019166</td>\n",
              "      <td>164.645065</td>\n",
              "      <td>8.104576</td>\n",
              "      <td>590.346191</td>\n",
              "      <td>2132.253953</td>\n",
              "      <td>0.0</td>\n",
              "      <td>204.835170</td>\n",
              "      <td>321.838884</td>\n",
              "      <td>2500.432319</td>\n",
              "      <td>112.619789</td>\n",
              "      <td>129.471370</td>\n",
              "      <td>611.544277</td>\n",
              "      <td>0.0</td>\n",
              "      <td>0.0</td>\n",
              "      <td>0.429049</td>\n",
              "      <td>0.0</td>\n",
              "      <td>0.570644</td>\n",
              "      <td>0.0</td>\n",
              "      <td>0.000307</td>\n",
              "      <td>0.0</td>\n",
              "      <td>0.0</td>\n",
              "      <td>3.833042</td>\n",
              "      <td>0.188071</td>\n",
              "      <td>4</td>\n",
              "      <td>2000</td>\n",
              "      <td>0.219314</td>\n",
              "      <td>3.611870</td>\n",
              "      <td>0.0</td>\n",
              "      <td>0.104579</td>\n",
              "    </tr>\n",
              "    <tr>\n",
              "      <th>2</th>\n",
              "      <td>25.443</td>\n",
              "      <td>5.074</td>\n",
              "      <td>0.000000</td>\n",
              "      <td>1240.449964</td>\n",
              "      <td>0.0</td>\n",
              "      <td>-200.503858</td>\n",
              "      <td>1240.449964</td>\n",
              "      <td>163.699542</td>\n",
              "      <td>8.027851</td>\n",
              "      <td>536.613938</td>\n",
              "      <td>2139.632626</td>\n",
              "      <td>0.0</td>\n",
              "      <td>207.001206</td>\n",
              "      <td>321.846757</td>\n",
              "      <td>2519.259344</td>\n",
              "      <td>112.378707</td>\n",
              "      <td>127.550639</td>\n",
              "      <td>594.188987</td>\n",
              "      <td>0.0</td>\n",
              "      <td>0.0</td>\n",
              "      <td>0.238300</td>\n",
              "      <td>0.0</td>\n",
              "      <td>0.761700</td>\n",
              "      <td>0.0</td>\n",
              "      <td>0.000000</td>\n",
              "      <td>0.0</td>\n",
              "      <td>0.0</td>\n",
              "      <td>1.927303</td>\n",
              "      <td>0.211730</td>\n",
              "      <td>4</td>\n",
              "      <td>2000</td>\n",
              "      <td>0.237695</td>\n",
              "      <td>3.987285</td>\n",
              "      <td>0.0</td>\n",
              "      <td>0.102826</td>\n",
              "    </tr>\n",
              "    <tr>\n",
              "      <th>3</th>\n",
              "      <td>25.665</td>\n",
              "      <td>5.070</td>\n",
              "      <td>0.000000</td>\n",
              "      <td>1229.240077</td>\n",
              "      <td>0.0</td>\n",
              "      <td>-177.011032</td>\n",
              "      <td>1229.240077</td>\n",
              "      <td>172.996043</td>\n",
              "      <td>8.820002</td>\n",
              "      <td>648.271615</td>\n",
              "      <td>2125.206979</td>\n",
              "      <td>0.0</td>\n",
              "      <td>204.127473</td>\n",
              "      <td>319.348123</td>\n",
              "      <td>2493.392613</td>\n",
              "      <td>109.132390</td>\n",
              "      <td>131.703082</td>\n",
              "      <td>645.362481</td>\n",
              "      <td>0.0</td>\n",
              "      <td>0.0</td>\n",
              "      <td>0.488146</td>\n",
              "      <td>0.0</td>\n",
              "      <td>0.511854</td>\n",
              "      <td>0.0</td>\n",
              "      <td>0.000000</td>\n",
              "      <td>0.0</td>\n",
              "      <td>0.0</td>\n",
              "      <td>1.878281</td>\n",
              "      <td>0.215403</td>\n",
              "      <td>4</td>\n",
              "      <td>2000</td>\n",
              "      <td>0.203160</td>\n",
              "      <td>3.278266</td>\n",
              "      <td>0.0</td>\n",
              "      <td>0.107142</td>\n",
              "    </tr>\n",
              "    <tr>\n",
              "      <th>4</th>\n",
              "      <td>25.886</td>\n",
              "      <td>5.067</td>\n",
              "      <td>0.000307</td>\n",
              "      <td>1224.093679</td>\n",
              "      <td>0.0</td>\n",
              "      <td>-153.256111</td>\n",
              "      <td>1224.093679</td>\n",
              "      <td>178.396749</td>\n",
              "      <td>9.000000</td>\n",
              "      <td>719.423119</td>\n",
              "      <td>2114.709813</td>\n",
              "      <td>0.0</td>\n",
              "      <td>203.295123</td>\n",
              "      <td>318.639735</td>\n",
              "      <td>2487.984467</td>\n",
              "      <td>108.161469</td>\n",
              "      <td>133.354846</td>\n",
              "      <td>660.372381</td>\n",
              "      <td>0.0</td>\n",
              "      <td>0.0</td>\n",
              "      <td>0.322243</td>\n",
              "      <td>0.0</td>\n",
              "      <td>0.677757</td>\n",
              "      <td>0.0</td>\n",
              "      <td>0.000000</td>\n",
              "      <td>0.0</td>\n",
              "      <td>0.0</td>\n",
              "      <td>1.968818</td>\n",
              "      <td>0.199975</td>\n",
              "      <td>4</td>\n",
              "      <td>2000</td>\n",
              "      <td>0.185364</td>\n",
              "      <td>2.939452</td>\n",
              "      <td>0.0</td>\n",
              "      <td>0.108942</td>\n",
              "    </tr>\n",
              "  </tbody>\n",
              "</table>\n",
              "</div>"
            ],
            "text/plain": [
              "      lat    lon  ...  low_pres_and_rain_def  pres_def_and_windy\n",
              "0  25.447  5.296  ...                    0.0            0.103808\n",
              "1  25.669  5.293  ...                    0.0            0.104579\n",
              "2  25.443  5.074  ...                    0.0            0.102826\n",
              "3  25.665  5.070  ...                    0.0            0.107142\n",
              "4  25.886  5.067  ...                    0.0            0.108942\n",
              "\n",
              "[5 rows x 35 columns]"
            ]
          },
          "metadata": {
            "tags": []
          },
          "execution_count": 14
        }
      ]
    },
    {
      "cell_type": "code",
      "metadata": {
        "id": "SvVxwAGfyrKa",
        "colab_type": "code",
        "outputId": "bde01ea2-8e00-4127-c055-3ce819e3bf17",
        "colab": {
          "base_uri": "https://localhost:8080/",
          "height": 34
        }
      },
      "source": [
        "train.shape"
      ],
      "execution_count": 15,
      "outputs": [
        {
          "output_type": "execute_result",
          "data": {
            "text/plain": [
              "(626644, 35)"
            ]
          },
          "metadata": {
            "tags": []
          },
          "execution_count": 15
        }
      ]
    },
    {
      "cell_type": "markdown",
      "metadata": {
        "id": "NXWzOC7Hmx6h",
        "colab_type": "text"
      },
      "source": [
        "Defining the categorical, continuous and dependant variables for the tabular learner"
      ]
    },
    {
      "cell_type": "code",
      "metadata": {
        "id": "DNcdYCQ3bFue",
        "colab_type": "code",
        "outputId": "e777c393-2e0d-4e53-b003-df0036c0c64b",
        "colab": {
          "base_uri": "https://localhost:8080/",
          "height": 54
        }
      },
      "source": [
        "cols = train.columns.tolist()\n",
        "dep_var = 'burn_area'\n",
        "cat_var = cols[0:2] + cols[29:31]\n",
        "cont_var = cols[3:29] + cols[31:35]\n",
        "print(cat_var, cont_var)"
      ],
      "execution_count": 16,
      "outputs": [
        {
          "output_type": "stream",
          "text": [
            "['lat', 'lon', 'month', 'year'] ['climate_aet', 'climate_def', 'climate_pdsi', 'climate_pet', 'climate_pr', 'climate_ro', 'climate_soil', 'climate_srad', 'climate_swe', 'climate_tmmn', 'climate_tmmx', 'climate_vap', 'climate_vpd', 'climate_vs', 'elevation', 'landcover_0', 'landcover_1', 'landcover_2', 'landcover_3', 'landcover_4', 'landcover_5', 'landcover_6', 'landcover_7', 'landcover_8', 'population_density', 'precipitation', 'dry_and_windy', 'hot_and_dry', 'low_pres_and_rain_def', 'pres_def_and_windy']\n"
          ],
          "name": "stdout"
        }
      ]
    },
    {
      "cell_type": "code",
      "metadata": {
        "id": "U0CQYaB5dqzP",
        "colab_type": "code",
        "colab": {}
      },
      "source": [
        "procs = [FillMissing, Categorify, Normalize]"
      ],
      "execution_count": 0,
      "outputs": []
    },
    {
      "cell_type": "markdown",
      "metadata": {
        "id": "1aZDXYWnntAr",
        "colab_type": "text"
      },
      "source": [
        "I trained 5 different models, each time changing the random validation split seed to 42, 43, 44, 45 and 46 respectively"
      ]
    },
    {
      "cell_type": "code",
      "metadata": {
        "id": "KoJWtGiuda3I",
        "colab_type": "code",
        "colab": {}
      },
      "source": [
        "#seeds: 42, 43, 44, 45, 46\n",
        "data = (TabularList.from_df(train, procs = procs, cont_names = cont_var, cat_names = cat_var).split_by_rand_pct(valid_pct = 0.1,seed=42)\n",
        "        .label_from_df(cols=dep_var)\n",
        "        .add_test(TabularList.from_df(test.drop(columns=['ID', 'area', 'date']), procs = procs, cont_names=cont_var, cat_names = cat_var))\n",
        "        .databunch())"
      ],
      "execution_count": 0,
      "outputs": []
    },
    {
      "cell_type": "code",
      "metadata": {
        "id": "1_56DINvfylI",
        "colab_type": "code",
        "colab": {}
      },
      "source": [
        "data.batch_size = 4096"
      ],
      "execution_count": 0,
      "outputs": []
    },
    {
      "cell_type": "code",
      "metadata": {
        "id": "ros7DybGfzMa",
        "colab_type": "code",
        "outputId": "a6046084-7186-4f3a-a6b3-863431c40d29",
        "colab": {
          "base_uri": "https://localhost:8080/",
          "height": 224
        }
      },
      "source": [
        "learn = tabular_learner(data, layers=[500,200], metrics=root_mean_squared_error, y_range=(0,1))\n",
        "data.show_batch()"
      ],
      "execution_count": 20,
      "outputs": [
        {
          "output_type": "display_data",
          "data": {
            "text/html": [
              "<table border=\"1\" class=\"dataframe\">\n",
              "  <thead>\n",
              "    <tr style=\"text-align: right;\">\n",
              "      <th>lat</th>\n",
              "      <th>lon</th>\n",
              "      <th>month</th>\n",
              "      <th>year</th>\n",
              "      <th>population_density_na</th>\n",
              "      <th>climate_aet</th>\n",
              "      <th>climate_def</th>\n",
              "      <th>climate_pdsi</th>\n",
              "      <th>climate_pet</th>\n",
              "      <th>climate_pr</th>\n",
              "      <th>climate_ro</th>\n",
              "      <th>climate_soil</th>\n",
              "      <th>climate_srad</th>\n",
              "      <th>climate_swe</th>\n",
              "      <th>climate_tmmn</th>\n",
              "      <th>climate_tmmx</th>\n",
              "      <th>climate_vap</th>\n",
              "      <th>climate_vpd</th>\n",
              "      <th>climate_vs</th>\n",
              "      <th>elevation</th>\n",
              "      <th>landcover_0</th>\n",
              "      <th>landcover_1</th>\n",
              "      <th>landcover_2</th>\n",
              "      <th>landcover_3</th>\n",
              "      <th>landcover_4</th>\n",
              "      <th>landcover_5</th>\n",
              "      <th>landcover_6</th>\n",
              "      <th>landcover_7</th>\n",
              "      <th>landcover_8</th>\n",
              "      <th>population_density</th>\n",
              "      <th>precipitation</th>\n",
              "      <th>dry_and_windy</th>\n",
              "      <th>hot_and_dry</th>\n",
              "      <th>low_pres_and_rain_def</th>\n",
              "      <th>pres_def_and_windy</th>\n",
              "      <th>target</th>\n",
              "    </tr>\n",
              "  </thead>\n",
              "  <tbody>\n",
              "    <tr>\n",
              "      <td>24.962</td>\n",
              "      <td>1.072</td>\n",
              "      <td>8</td>\n",
              "      <td>2006</td>\n",
              "      <td>False</td>\n",
              "      <td>0.3362</td>\n",
              "      <td>-0.6011</td>\n",
              "      <td>-0.0637</td>\n",
              "      <td>-0.7460</td>\n",
              "      <td>0.4029</td>\n",
              "      <td>0.4558</td>\n",
              "      <td>-0.2900</td>\n",
              "      <td>-0.7537</td>\n",
              "      <td>-0.0018</td>\n",
              "      <td>0.6151</td>\n",
              "      <td>-0.5770</td>\n",
              "      <td>0.3507</td>\n",
              "      <td>-0.5219</td>\n",
              "      <td>-0.7608</td>\n",
              "      <td>-0.5873</td>\n",
              "      <td>-0.1408</td>\n",
              "      <td>-0.0503</td>\n",
              "      <td>0.6983</td>\n",
              "      <td>-0.0190</td>\n",
              "      <td>-0.5992</td>\n",
              "      <td>-0.0548</td>\n",
              "      <td>-0.3064</td>\n",
              "      <td>-0.0742</td>\n",
              "      <td>-0.1254</td>\n",
              "      <td>-0.1055</td>\n",
              "      <td>1.0893</td>\n",
              "      <td>-0.4787</td>\n",
              "      <td>-0.3958</td>\n",
              "      <td>-0.5218</td>\n",
              "      <td>-0.3316</td>\n",
              "      <td>0.0</td>\n",
              "    </tr>\n",
              "    <tr>\n",
              "      <td>23.69</td>\n",
              "      <td>-6.749</td>\n",
              "      <td>5</td>\n",
              "      <td>2012</td>\n",
              "      <td>False</td>\n",
              "      <td>0.1368</td>\n",
              "      <td>0.1421</td>\n",
              "      <td>-0.2102</td>\n",
              "      <td>0.5427</td>\n",
              "      <td>-0.9268</td>\n",
              "      <td>-0.6607</td>\n",
              "      <td>-0.4477</td>\n",
              "      <td>0.4955</td>\n",
              "      <td>-0.0018</td>\n",
              "      <td>-0.5564</td>\n",
              "      <td>0.5613</td>\n",
              "      <td>-1.0554</td>\n",
              "      <td>1.2756</td>\n",
              "      <td>0.0678</td>\n",
              "      <td>0.0128</td>\n",
              "      <td>-0.1408</td>\n",
              "      <td>-0.0503</td>\n",
              "      <td>-2.2801</td>\n",
              "      <td>-0.0190</td>\n",
              "      <td>-0.5992</td>\n",
              "      <td>-0.0548</td>\n",
              "      <td>11.0389</td>\n",
              "      <td>-0.0742</td>\n",
              "      <td>-0.1254</td>\n",
              "      <td>0.6795</td>\n",
              "      <td>-0.7743</td>\n",
              "      <td>-0.1887</td>\n",
              "      <td>-0.1897</td>\n",
              "      <td>0.0796</td>\n",
              "      <td>-0.2275</td>\n",
              "      <td>0.0006147252</td>\n",
              "    </tr>\n",
              "    <tr>\n",
              "      <td>26.285</td>\n",
              "      <td>-0.7070000000000001</td>\n",
              "      <td>10</td>\n",
              "      <td>2003</td>\n",
              "      <td>False</td>\n",
              "      <td>0.7385</td>\n",
              "      <td>-0.6011</td>\n",
              "      <td>1.5775</td>\n",
              "      <td>-0.0645</td>\n",
              "      <td>2.4596</td>\n",
              "      <td>3.4427</td>\n",
              "      <td>-0.6091</td>\n",
              "      <td>-0.4122</td>\n",
              "      <td>-0.0018</td>\n",
              "      <td>0.3605</td>\n",
              "      <td>0.5867</td>\n",
              "      <td>0.3015</td>\n",
              "      <td>0.1621</td>\n",
              "      <td>-0.3840</td>\n",
              "      <td>-0.4848</td>\n",
              "      <td>-0.1408</td>\n",
              "      <td>-0.0503</td>\n",
              "      <td>0.6983</td>\n",
              "      <td>-0.0190</td>\n",
              "      <td>-0.5992</td>\n",
              "      <td>-0.0548</td>\n",
              "      <td>-0.3064</td>\n",
              "      <td>-0.0742</td>\n",
              "      <td>-0.1254</td>\n",
              "      <td>-0.1264</td>\n",
              "      <td>0.4187</td>\n",
              "      <td>-0.1752</td>\n",
              "      <td>-0.1488</td>\n",
              "      <td>-0.5218</td>\n",
              "      <td>-0.3206</td>\n",
              "      <td>0.0</td>\n",
              "    </tr>\n",
              "    <tr>\n",
              "      <td>28.48</td>\n",
              "      <td>0.838</td>\n",
              "      <td>4</td>\n",
              "      <td>2013</td>\n",
              "      <td>False</td>\n",
              "      <td>0.8815</td>\n",
              "      <td>-0.6011</td>\n",
              "      <td>-1.4224</td>\n",
              "      <td>0.1776</td>\n",
              "      <td>0.2916</td>\n",
              "      <td>-0.5613</td>\n",
              "      <td>-0.3559</td>\n",
              "      <td>0.7834</td>\n",
              "      <td>-0.0018</td>\n",
              "      <td>-0.5768</td>\n",
              "      <td>-0.9131</td>\n",
              "      <td>-0.3542</td>\n",
              "      <td>-0.4986</td>\n",
              "      <td>0.3627</td>\n",
              "      <td>0.4718</td>\n",
              "      <td>-0.1408</td>\n",
              "      <td>-0.0503</td>\n",
              "      <td>0.6983</td>\n",
              "      <td>-0.0190</td>\n",
              "      <td>-0.5992</td>\n",
              "      <td>-0.0548</td>\n",
              "      <td>-0.3064</td>\n",
              "      <td>-0.0742</td>\n",
              "      <td>-0.1254</td>\n",
              "      <td>-0.1263</td>\n",
              "      <td>0.3670</td>\n",
              "      <td>-0.1857</td>\n",
              "      <td>-0.2276</td>\n",
              "      <td>-0.5218</td>\n",
              "      <td>-0.2631</td>\n",
              "      <td>0.0</td>\n",
              "    </tr>\n",
              "    <tr>\n",
              "      <td>20.514</td>\n",
              "      <td>-2.519</td>\n",
              "      <td>6</td>\n",
              "      <td>2010</td>\n",
              "      <td>False</td>\n",
              "      <td>-0.0450</td>\n",
              "      <td>-0.6011</td>\n",
              "      <td>0.2468</td>\n",
              "      <td>-1.3915</td>\n",
              "      <td>0.3979</td>\n",
              "      <td>0.6305</td>\n",
              "      <td>-0.7476</td>\n",
              "      <td>-0.8425</td>\n",
              "      <td>-0.0018</td>\n",
              "      <td>0.3432</td>\n",
              "      <td>-0.3452</td>\n",
              "      <td>1.2392</td>\n",
              "      <td>-1.5525</td>\n",
              "      <td>-1.3904</td>\n",
              "      <td>-0.8857</td>\n",
              "      <td>-0.1408</td>\n",
              "      <td>-0.0503</td>\n",
              "      <td>0.6889</td>\n",
              "      <td>-0.0190</td>\n",
              "      <td>-0.5992</td>\n",
              "      <td>-0.0548</td>\n",
              "      <td>-0.2706</td>\n",
              "      <td>-0.0742</td>\n",
              "      <td>-0.1254</td>\n",
              "      <td>-0.1326</td>\n",
              "      <td>-0.6409</td>\n",
              "      <td>-0.3891</td>\n",
              "      <td>-0.0487</td>\n",
              "      <td>-0.5218</td>\n",
              "      <td>-0.3764</td>\n",
              "      <td>0.0</td>\n",
              "    </tr>\n",
              "  </tbody>\n",
              "</table>"
            ],
            "text/plain": [
              "<IPython.core.display.HTML object>"
            ]
          },
          "metadata": {
            "tags": []
          }
        }
      ]
    },
    {
      "cell_type": "code",
      "metadata": {
        "id": "0qEEYIMlggDA",
        "colab_type": "code",
        "colab": {
          "base_uri": "https://localhost:8080/",
          "height": 374
        },
        "outputId": "a82f7d52-294e-442b-f13c-276d003148e6"
      },
      "source": [
        "learn.lr_find()\n",
        "learn.recorder.plot(skip_end = 0)"
      ],
      "execution_count": 21,
      "outputs": [
        {
          "output_type": "display_data",
          "data": {
            "text/html": [
              "\n",
              "    <div>\n",
              "        <style>\n",
              "            /* Turns off some styling */\n",
              "            progress {\n",
              "                /* gets rid of default border in Firefox and Opera. */\n",
              "                border: none;\n",
              "                /* Needs to be in here for Safari polyfill so background images work as expected. */\n",
              "                background-size: auto;\n",
              "            }\n",
              "            .progress-bar-interrupted, .progress-bar-interrupted::-webkit-progress-bar {\n",
              "                background: #F44336;\n",
              "            }\n",
              "        </style>\n",
              "      <progress value='0' class='' max='1', style='width:300px; height:20px; vertical-align: middle;'></progress>\n",
              "      0.00% [0/1 00:00<00:00]\n",
              "    </div>\n",
              "    \n",
              "<table border=\"1\" class=\"dataframe\">\n",
              "  <thead>\n",
              "    <tr style=\"text-align: left;\">\n",
              "      <th>epoch</th>\n",
              "      <th>train_loss</th>\n",
              "      <th>valid_loss</th>\n",
              "      <th>root_mean_squared_error</th>\n",
              "      <th>time</th>\n",
              "    </tr>\n",
              "  </thead>\n",
              "  <tbody>\n",
              "  </tbody>\n",
              "</table><p>\n",
              "\n",
              "    <div>\n",
              "        <style>\n",
              "            /* Turns off some styling */\n",
              "            progress {\n",
              "                /* gets rid of default border in Firefox and Opera. */\n",
              "                border: none;\n",
              "                /* Needs to be in here for Safari polyfill so background images work as expected. */\n",
              "                background-size: auto;\n",
              "            }\n",
              "            .progress-bar-interrupted, .progress-bar-interrupted::-webkit-progress-bar {\n",
              "                background: #F44336;\n",
              "            }\n",
              "        </style>\n",
              "      <progress value='99' class='' max='137', style='width:300px; height:20px; vertical-align: middle;'></progress>\n",
              "      72.26% [99/137 00:15<00:05 0.0954]\n",
              "    </div>\n",
              "    "
            ],
            "text/plain": [
              "<IPython.core.display.HTML object>"
            ]
          },
          "metadata": {
            "tags": []
          }
        },
        {
          "output_type": "stream",
          "text": [
            "LR Finder is complete, type {learner_name}.recorder.plot() to see the graph.\n"
          ],
          "name": "stdout"
        },
        {
          "output_type": "display_data",
          "data": {
            "image/png": "[encoded data removed]",
            "text/plain": [
              "<Figure size 432x288 with 1 Axes>"
            ]
          },
          "metadata": {
            "tags": []
          }
        }
      ]
    },
    {
      "cell_type": "markdown",
      "metadata": {
        "id": "hPNmTLSOp9Vh",
        "colab_type": "text"
      },
      "source": [
        "Training..."
      ]
    },
    {
      "cell_type": "code",
      "metadata": {
        "id": "N4qRCgbAhM7P",
        "colab_type": "code",
        "outputId": "2eaf2a29-c41c-4dcf-a2e8-52c51d095d9b",
        "colab": {
          "base_uri": "https://localhost:8080/",
          "height": 266
        }
      },
      "source": [
        "learn.fit_one_cycle(7, 5e-2)"
      ],
      "execution_count": 22,
      "outputs": [
        {
          "output_type": "display_data",
          "data": {
            "text/html": [
              "<table border=\"1\" class=\"dataframe\">\n",
              "  <thead>\n",
              "    <tr style=\"text-align: left;\">\n",
              "      <th>epoch</th>\n",
              "      <th>train_loss</th>\n",
              "      <th>valid_loss</th>\n",
              "      <th>root_mean_squared_error</th>\n",
              "      <th>time</th>\n",
              "    </tr>\n",
              "  </thead>\n",
              "  <tbody>\n",
              "    <tr>\n",
              "      <td>0</td>\n",
              "      <td>0.011189</td>\n",
              "      <td>0.007965</td>\n",
              "      <td>0.089153</td>\n",
              "      <td>00:23</td>\n",
              "    </tr>\n",
              "    <tr>\n",
              "      <td>1</td>\n",
              "      <td>0.001876</td>\n",
              "      <td>0.001656</td>\n",
              "      <td>0.040576</td>\n",
              "      <td>00:24</td>\n",
              "    </tr>\n",
              "    <tr>\n",
              "      <td>2</td>\n",
              "      <td>0.001239</td>\n",
              "      <td>0.000901</td>\n",
              "      <td>0.029927</td>\n",
              "      <td>00:23</td>\n",
              "    </tr>\n",
              "    <tr>\n",
              "      <td>3</td>\n",
              "      <td>0.000824</td>\n",
              "      <td>0.000768</td>\n",
              "      <td>0.027631</td>\n",
              "      <td>00:23</td>\n",
              "    </tr>\n",
              "    <tr>\n",
              "      <td>4</td>\n",
              "      <td>0.000687</td>\n",
              "      <td>0.000642</td>\n",
              "      <td>0.025232</td>\n",
              "      <td>00:23</td>\n",
              "    </tr>\n",
              "    <tr>\n",
              "      <td>5</td>\n",
              "      <td>0.000585</td>\n",
              "      <td>0.000576</td>\n",
              "      <td>0.023928</td>\n",
              "      <td>00:23</td>\n",
              "    </tr>\n",
              "    <tr>\n",
              "      <td>6</td>\n",
              "      <td>0.000498</td>\n",
              "      <td>0.000554</td>\n",
              "      <td>0.023447</td>\n",
              "      <td>00:23</td>\n",
              "    </tr>\n",
              "  </tbody>\n",
              "</table>"
            ],
            "text/plain": [
              "<IPython.core.display.HTML object>"
            ]
          },
          "metadata": {
            "tags": []
          }
        }
      ]
    },
    {
      "cell_type": "markdown",
      "metadata": {
        "id": "m3GZg4nV7mqH",
        "colab_type": "text"
      },
      "source": [
        "#Ensembling the 5 models"
      ]
    },
    {
      "cell_type": "code",
      "metadata": {
        "id": "3czAH6tl7rGn",
        "colab_type": "code",
        "colab": {}
      },
      "source": [
        "i = 1"
      ],
      "execution_count": 0,
      "outputs": []
    },
    {
      "cell_type": "markdown",
      "metadata": {
        "id": "Eq7DM0URkkai",
        "colab_type": "text"
      },
      "source": [
        "# Run this cell for each model"
      ]
    },
    {
      "cell_type": "markdown",
      "metadata": {
        "id": "rd6Hz-DSpgEz",
        "colab_type": "text"
      },
      "source": [
        "Saving the submission file to a CSV"
      ]
    },
    {
      "cell_type": "code",
      "metadata": {
        "id": "bb8DdgWskqQs",
        "colab_type": "code",
        "outputId": "2329db75-7b2a-476d-8f67-4c9854d68db8",
        "colab": {
          "base_uri": "https://localhost:8080/",
          "height": 377
        }
      },
      "source": [
        "# Look at the sample submission file\n",
        "ss = pd.read_csv('ss.csv')\n",
        "preds, y = learn.get_preds(DatasetType.Test)\n",
        "ss['Prediction'] = preds[:,0]\n",
        "\n",
        "# Save ready for submission:\n",
        "name = 'submissions/ensamble_'+ str(i) +'.csv'\n",
        "ss.to_csv(name, index=False)\n",
        "i += 1"
      ],
      "execution_count": 24,
      "outputs": [
        {
          "output_type": "display_data",
          "data": {
            "text/html": [
              ""
            ],
            "text/plain": [
              "<IPython.core.display.HTML object>"
            ]
          },
          "metadata": {
            "tags": []
          }
        },
        {
          "output_type": "error",
          "ename": "FileNotFoundError",
          "evalue": "ignored",
          "traceback": [
            "\u001b[0;31m---------------------------------------------------------------------------\u001b[0m",
            "\u001b[0;31mFileNotFoundError\u001b[0m                         Traceback (most recent call last)",
            "\u001b[0;32m<ipython-input-24-071f94d998b1>\u001b[0m in \u001b[0;36m<module>\u001b[0;34m()\u001b[0m\n\u001b[1;32m      5\u001b[0m \u001b[0;31m# Save ready for submission:\u001b[0m\u001b[0;34m\u001b[0m\u001b[0;34m\u001b[0m\u001b[0;34m\u001b[0m\u001b[0m\n\u001b[1;32m      6\u001b[0m \u001b[0mname\u001b[0m \u001b[0;34m=\u001b[0m \u001b[0;34m'submissions/ensamble_'\u001b[0m\u001b[0;34m+\u001b[0m \u001b[0mstr\u001b[0m\u001b[0;34m(\u001b[0m\u001b[0mi\u001b[0m\u001b[0;34m)\u001b[0m \u001b[0;34m+\u001b[0m\u001b[0;34m'.csv'\u001b[0m\u001b[0;34m\u001b[0m\u001b[0;34m\u001b[0m\u001b[0m\n\u001b[0;32m----> 7\u001b[0;31m \u001b[0mss\u001b[0m\u001b[0;34m.\u001b[0m\u001b[0mto_csv\u001b[0m\u001b[0;34m(\u001b[0m\u001b[0mname\u001b[0m\u001b[0;34m,\u001b[0m \u001b[0mindex\u001b[0m\u001b[0;34m=\u001b[0m\u001b[0;32mFalse\u001b[0m\u001b[0;34m)\u001b[0m\u001b[0;34m\u001b[0m\u001b[0;34m\u001b[0m\u001b[0m\n\u001b[0m\u001b[1;32m      8\u001b[0m \u001b[0mi\u001b[0m \u001b[0;34m+=\u001b[0m \u001b[0;36m1\u001b[0m\u001b[0;34m\u001b[0m\u001b[0;34m\u001b[0m\u001b[0m\n",
            "\u001b[0;32m/usr/local/lib/python3.6/dist-packages/pandas/core/generic.py\u001b[0m in \u001b[0;36mto_csv\u001b[0;34m(self, path_or_buf, sep, na_rep, float_format, columns, header, index, index_label, mode, encoding, compression, quoting, quotechar, line_terminator, chunksize, date_format, doublequote, escapechar, decimal)\u001b[0m\n\u001b[1;32m   3202\u001b[0m             \u001b[0mdecimal\u001b[0m\u001b[0;34m=\u001b[0m\u001b[0mdecimal\u001b[0m\u001b[0;34m,\u001b[0m\u001b[0;34m\u001b[0m\u001b[0;34m\u001b[0m\u001b[0m\n\u001b[1;32m   3203\u001b[0m         )\n\u001b[0;32m-> 3204\u001b[0;31m         \u001b[0mformatter\u001b[0m\u001b[0;34m.\u001b[0m\u001b[0msave\u001b[0m\u001b[0;34m(\u001b[0m\u001b[0;34m)\u001b[0m\u001b[0;34m\u001b[0m\u001b[0;34m\u001b[0m\u001b[0m\n\u001b[0m\u001b[1;32m   3205\u001b[0m \u001b[0;34m\u001b[0m\u001b[0m\n\u001b[1;32m   3206\u001b[0m         \u001b[0;32mif\u001b[0m \u001b[0mpath_or_buf\u001b[0m \u001b[0;32mis\u001b[0m \u001b[0;32mNone\u001b[0m\u001b[0;34m:\u001b[0m\u001b[0;34m\u001b[0m\u001b[0;34m\u001b[0m\u001b[0m\n",
            "\u001b[0;32m/usr/local/lib/python3.6/dist-packages/pandas/io/formats/csvs.py\u001b[0m in \u001b[0;36msave\u001b[0;34m(self)\u001b[0m\n\u001b[1;32m    186\u001b[0m                 \u001b[0mself\u001b[0m\u001b[0;34m.\u001b[0m\u001b[0mmode\u001b[0m\u001b[0;34m,\u001b[0m\u001b[0;34m\u001b[0m\u001b[0;34m\u001b[0m\u001b[0m\n\u001b[1;32m    187\u001b[0m                 \u001b[0mencoding\u001b[0m\u001b[0;34m=\u001b[0m\u001b[0mself\u001b[0m\u001b[0;34m.\u001b[0m\u001b[0mencoding\u001b[0m\u001b[0;34m,\u001b[0m\u001b[0;34m\u001b[0m\u001b[0;34m\u001b[0m\u001b[0m\n\u001b[0;32m--> 188\u001b[0;31m                 \u001b[0mcompression\u001b[0m\u001b[0;34m=\u001b[0m\u001b[0mdict\u001b[0m\u001b[0;34m(\u001b[0m\u001b[0mself\u001b[0m\u001b[0;34m.\u001b[0m\u001b[0mcompression_args\u001b[0m\u001b[0;34m,\u001b[0m \u001b[0mmethod\u001b[0m\u001b[0;34m=\u001b[0m\u001b[0mself\u001b[0m\u001b[0;34m.\u001b[0m\u001b[0mcompression\u001b[0m\u001b[0;34m)\u001b[0m\u001b[0;34m,\u001b[0m\u001b[0;34m\u001b[0m\u001b[0;34m\u001b[0m\u001b[0m\n\u001b[0m\u001b[1;32m    189\u001b[0m             )\n\u001b[1;32m    190\u001b[0m             \u001b[0mclose\u001b[0m \u001b[0;34m=\u001b[0m \u001b[0;32mTrue\u001b[0m\u001b[0;34m\u001b[0m\u001b[0;34m\u001b[0m\u001b[0m\n",
            "\u001b[0;32m/usr/local/lib/python3.6/dist-packages/pandas/io/common.py\u001b[0m in \u001b[0;36mget_handle\u001b[0;34m(path_or_buf, mode, encoding, compression, memory_map, is_text)\u001b[0m\n\u001b[1;32m    426\u001b[0m         \u001b[0;32mif\u001b[0m \u001b[0mencoding\u001b[0m\u001b[0;34m:\u001b[0m\u001b[0;34m\u001b[0m\u001b[0;34m\u001b[0m\u001b[0m\n\u001b[1;32m    427\u001b[0m             \u001b[0;31m# Encoding\u001b[0m\u001b[0;34m\u001b[0m\u001b[0;34m\u001b[0m\u001b[0;34m\u001b[0m\u001b[0m\n\u001b[0;32m--> 428\u001b[0;31m             \u001b[0mf\u001b[0m \u001b[0;34m=\u001b[0m \u001b[0mopen\u001b[0m\u001b[0;34m(\u001b[0m\u001b[0mpath_or_buf\u001b[0m\u001b[0;34m,\u001b[0m \u001b[0mmode\u001b[0m\u001b[0;34m,\u001b[0m \u001b[0mencoding\u001b[0m\u001b[0;34m=\u001b[0m\u001b[0mencoding\u001b[0m\u001b[0;34m,\u001b[0m \u001b[0mnewline\u001b[0m\u001b[0;34m=\u001b[0m\u001b[0;34m\"\"\u001b[0m\u001b[0;34m)\u001b[0m\u001b[0;34m\u001b[0m\u001b[0;34m\u001b[0m\u001b[0m\n\u001b[0m\u001b[1;32m    429\u001b[0m         \u001b[0;32melif\u001b[0m \u001b[0mis_text\u001b[0m\u001b[0;34m:\u001b[0m\u001b[0;34m\u001b[0m\u001b[0;34m\u001b[0m\u001b[0m\n\u001b[1;32m    430\u001b[0m             \u001b[0;31m# No explicit encoding\u001b[0m\u001b[0;34m\u001b[0m\u001b[0;34m\u001b[0m\u001b[0;34m\u001b[0m\u001b[0m\n",
            "\u001b[0;31mFileNotFoundError\u001b[0m: [Errno 2] No such file or directory: 'submissions/ensamble_1.csv'"
          ]
        }
      ]
    },
    {
      "cell_type": "markdown",
      "metadata": {
        "id": "l-Wn9WhH67qS",
        "colab_type": "text"
      },
      "source": [
        "#Ensamble all the model's predictions for the final submission\n"
      ]
    },
    {
      "cell_type": "code",
      "metadata": {
        "id": "FgbSoKyLo-QT",
        "colab_type": "code",
        "colab": {}
      },
      "source": [
        "import pandas as pd\n",
        "import numpy as np\n",
        "from pathlib import Path\n",
        "from scipy.stats import gmean\n",
        "\n",
        "sub_path = Path('submissions/')\n",
        "csv_files = list(sub_path.glob('*.csv'))\n",
        "csv_files = sorted(csv_files)\n",
        "dfs = []\n",
        "for c in csv_files:\n",
        "    dfs.append(pd.read_csv(c))\n",
        "\n",
        "arrs = [np.array(p['Prediction']) for p in dfs]\n",
        "new_preds = sum(arrs)/len(arrs)\n",
        "new_df = dfs[0].copy()\n",
        "new_df['Prediction'] = new_preds\n",
        "\n",
        "new_df.to_csv('final_sub.csv', index=False)"
      ],
      "execution_count": 0,
      "outputs": []
    }
  ]
}